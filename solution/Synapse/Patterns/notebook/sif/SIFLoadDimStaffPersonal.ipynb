{
  "nbformat": 4,
  "nbformat_minor": 2,
  "metadata": {
    "kernelspec": {
      "name": "synapse_pyspark",
      "display_name": "Synapse PySpark"
    },
    "language_info": {
      "name": "python"
    },
    "description": null,
    "save_output": true,
    "synapse_widget": {
      "version": "0.1",
      "state": {}
    }
  },
  "cells": [
    {
      "cell_type": "code",
      "execution_count": null,
      "outputs": [
        {
          "output_type": "display_data",
          "data": {
            "application/vnd.livy.statement-meta+json": {
              "execution_finish_time": "2022-07-03T12:04:55.8431069Z",
              "execution_start_time": "2022-07-03T12:04:55.6916735Z",
              "livy_statement_state": "available",
              "queued_time": "2022-07-03T12:04:55.583777Z",
              "session_id": 7,
              "session_start_time": null,
              "spark_pool": "adsdevsynspads",
              "state": "finished",
              "statement_id": 2
            },
            "text/plain": "StatementMeta(adsdevsynspads, 7, 2, Finished, Available)"
          },
          "metadata": {}
        }
      ],
      "metadata": {
        "jupyter": {
          "outputs_hidden": false,
          "source_hidden": false
        },
        "nteract": {
          "transient": {
            "deleting": false
          }
        },
        "tags": [
          "parameters"
        ]
      },
      "source": [
        "SifDbName = \"sif\""
      ]
    },
    {
      "cell_type": "code",
      "execution_count": null,
      "outputs": [
        {
          "output_type": "display_data",
          "data": {
            "application/vnd.livy.statement-meta+json": {
              "execution_finish_time": "2022-07-03T12:05:12.7756378Z",
              "execution_start_time": "2022-07-03T12:04:58.1006782Z",
              "livy_statement_state": "available",
              "queued_time": "2022-07-03T12:04:58.0004399Z",
              "session_id": 7,
              "session_start_time": null,
              "spark_pool": "adsdevsynspads",
              "state": "finished",
              "statement_id": 3
            },
            "text/plain": "StatementMeta(adsdevsynspads, 7, 3, Finished, Available)"
          },
          "metadata": {}
        }
      ],
      "metadata": {
        "jupyter": {
          "outputs_hidden": false,
          "source_hidden": false
        },
        "nteract": {
          "transient": {
            "deleting": false
          }
        }
      },
      "source": [
        "spark.catalog.setCurrentDatabase(SifDbName)"
      ]
    },
    {
      "cell_type": "code",
      "execution_count": null,
      "outputs": [
        {
          "output_type": "display_data",
          "data": {
            "application/vnd.livy.statement-meta+json": {
              "execution_finish_time": "2022-07-03T12:23:33.5774397Z",
              "execution_start_time": "2022-07-03T12:23:31.7503941Z",
              "livy_statement_state": "available",
              "queued_time": "2022-07-03T12:23:31.6527541Z",
              "session_id": 7,
              "session_start_time": null,
              "spark_pool": "adsdevsynspads",
              "state": "finished",
              "statement_id": 29
            },
            "text/plain": "StatementMeta(adsdevsynspads, 7, 29, Finished, Available)"
          },
          "metadata": {}
        }
      ],
      "metadata": {
        "jupyter": {
          "outputs_hidden": false,
          "source_hidden": false
        },
        "nteract": {
          "transient": {
            "deleting": false
          }
        }
      },
      "source": [
        "from pyspark.sql.functions import *\n",
        "df_Raw = spark.sql(\"select * from raw_staffpersonal\")\n",
        "df_RawWJ = df_Raw.withColumn('json',to_json (struct (col ('*')))).select(\"RefId\", \"json\")\n",
        "\n",
        "df_Out = df_RawWJ \\\n",
        ".withColumn('LocalId',get_json_object(col('json'), '$.LocalId')) \\\n",
        ".withColumn('StateProvinceId',get_json_object(col('json'), '$.StateProvinceId')) \\\n",
        ".withColumn('FirstName',get_json_object(col('json'), '$.FirstName')) \\\n",
        ".withColumn('LastName',get_json_object(col('json'), '$.LastName')) \\\n",
        ".withColumn('MiddleName',get_json_object(col('json'), '$.MiddleName')) \\\n",
        ".withColumn('OtherNames',get_json_object(col('json'), '$.OtherNames')) \\\n",
        ".withColumn('EmploymentStatus',get_json_object(col('json'), '$.EmploymentStatus')) \\\n",
        ".withColumn('Title',get_json_object(col('json'), '$.Title')) \\\n",
        ".withColumn('IndigenousStatus',get_json_object(col('json'), '$.IndigenousStatus')) \\\n",
        ".withColumn('Sex',get_json_object(col('json'), '$.Sex')) \\\n",
        ".withColumn('BirthDate',get_json_object(col('json'), '$.BirthDate')) \\\n",
        ".withColumn('DateOfDeath',get_json_object(col('json'), '$.DateOfDeath')) \\\n",
        ".withColumn('Deceased',get_json_object(col('json'), '$.Deceased')) \\\n",
        ".withColumn('BirthDateVerification',get_json_object(col('json'), '$.BirthDateVerification')) \\\n",
        ".withColumn('PlaceOfBirth',get_json_object(col('json'), '$.PlaceOfBirth')) \\\n",
        ".withColumn('StateOfBirth',get_json_object(col('json'), '$.StateOfBirth')) \\\n",
        ".withColumn('CountryOfBirth ',get_json_object(col('json'), '$.CountryOfBirth ')) \\\n",
        ".withColumn('CountryOfCitizenship ',get_json_object(col('json'), '$.CountryOfCitizenship ')) \\\n",
        ".withColumn('CountryOfResidency',get_json_object(col('json'), '$.CountryOfResidency')) \\\n",
        ".withColumn('CountryArrivalDate',get_json_object(col('json'), '$.CountryArrivalDate')) \\\n",
        ".withColumn('AustralianCitizenshipStatus',get_json_object(col('json'), '$.AustralianCitizenshipStatus')) \\\n",
        ".withColumn('EnglishProficiency',get_json_object(col('json'), '$.EnglishProficiency')) \\\n",
        ".withColumn('LanguageList',get_json_object(col('json'), '$.LanguageList')) \\\n",
        ".withColumn('DwellingArrangement',get_json_object(col('json'), '$.DwellingArrangement')) \\\n",
        ".withColumn('Religion',get_json_object(col('json'), '$.Religion')) \\\n",
        ".withColumn('ReligiousEventList',get_json_object(col('json'), '$.ReligiousEventList')) \\\n",
        ".withColumn('ReligiousRegion',get_json_object(col('json'), '$.ReligiousRegion')) \\\n",
        ".withColumn('PermanentResident',get_json_object(col('json'), '$.PermanentResident')) \\\n",
        ".withColumn('VisaSubClass',get_json_object(col('json'), '$.VisaSubClass')) \\\n",
        ".withColumn('VisaStatisticalCode',get_json_object(col('json'), '$.VisaStatisticalCode')) \\\n",
        ".withColumn('EmailList',get_json_object(col('json'), '$.EmailList')) \\\n",
        ".withColumn('PhoneNumberList',get_json_object(col('json'), '$.PhoneNumberList')) \\\n",
        ".withColumn('AddressList',get_json_object(col('json'), '$.AddressList')) \\\n",
        ".select('RefId',\t'LocalId',\t'StateProvinceId',\t'FirstName',\t'LastName',\t'MiddleName',\t'OtherNames',\t'EmploymentStatus',\t'Title',\t'IndigenousStatus',\t'Sex',\t'BirthDate',\t'DateOfDeath',\t'Deceased',\t'BirthDateVerification',\t'PlaceOfBirth',\t'StateOfBirth',\t'CountryOfBirth ',\t'CountryOfCitizenship ',\t'CountryOfResidency',\t'CountryArrivalDate',\t'AustralianCitizenshipStatus',\t'EnglishProficiency',\t'LanguageList',\t'DwellingArrangement',\t'Religion',\t'ReligiousEventList',\t'ReligiousRegion',\t'PermanentResident',\t'VisaSubClass',\t'VisaStatisticalCode',\t'EmailList',\t'PhoneNumberList',\t'AddressList',\n",
        ") \n",
        "\n",
        "\n",
        ""
      ]
    },
    {
      "cell_type": "code",
      "execution_count": null,
      "outputs": [
        {
          "output_type": "display_data",
          "data": {
            "application/vnd.livy.statement-meta+json": {
              "execution_finish_time": "2022-07-03T12:25:32.2411604Z",
              "execution_start_time": "2022-07-03T12:25:19.5170497Z",
              "livy_statement_state": "available",
              "queued_time": "2022-07-03T12:25:19.4260717Z",
              "session_id": 7,
              "session_start_time": null,
              "spark_pool": "adsdevsynspads",
              "state": "finished",
              "statement_id": 32
            },
            "text/plain": "StatementMeta(adsdevsynspads, 7, 32, Finished, Available)"
          },
          "metadata": {}
        }
      ],
      "metadata": {
        "jupyter": {
          "outputs_hidden": false,
          "source_hidden": false
        },
        "nteract": {
          "transient": {
            "deleting": false
          }
        }
      },
      "source": [
        "df_Out.write.mode(\"overwrite\").saveAsTable(\"dm_staffpersonal\")"
      ]
    }
  ]
}