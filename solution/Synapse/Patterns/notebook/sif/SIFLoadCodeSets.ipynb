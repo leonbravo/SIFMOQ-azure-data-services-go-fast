{
  "nbformat": 4,
  "nbformat_minor": 2,
  "metadata": {
    "kernelspec": {
      "name": "synapse_pyspark",
      "display_name": "Synapse PySpark"
    },
    "language_info": {
      "name": "python"
    },
    "description": null,
    "save_output": true,
    "synapse_widget": {
      "version": "0.1",
      "state": {}
    }
  },
  "cells": [
    {
      "cell_type": "code",
      "execution_count": 5,
      "outputs": [
        {
          "output_type": "display_data",
          "data": {
            "application/vnd.livy.statement-meta+json": {
              "spark_pool": "adsdevsynspads",
              "session_id": 4,
              "statement_id": 3,
              "state": "finished",
              "livy_statement_state": "available",
              "queued_time": "2022-07-06T10:53:53.2050023Z",
              "session_start_time": null,
              "execution_start_time": "2022-07-06T10:53:53.3081086Z",
              "execution_finish_time": "2022-07-06T10:53:53.4563482Z"
            },
            "text/plain": "StatementMeta(adsdevsynspads, 4, 3, Finished, Available)"
          },
          "metadata": {}
        }
      ],
      "metadata": {
        "jupyter": {
          "source_hidden": false,
          "outputs_hidden": false
        },
        "nteract": {
          "transient": {
            "deleting": false
          }
        },
        "tags": [
          "parameters"
        ]
      },
      "source": [
        "StorageAccountName = \"adsdevdlsadsalfsadsl\"\r\n",
        "StorageAccountContainer = \"datalakeraw\"\r\n",
        "StorageAccountFolder = \"/samples/sif/\"\r\n",
        "SifDbName = \"sif\"\r\n",
        ""
      ]
    },
    {
      "cell_type": "markdown",
      "metadata": {
        "nteract": {
          "transient": {
            "deleting": false
          }
        }
      },
      "source": [
        "**Read in Full Json Schema from SIF repo**"
      ]
    },
    {
      "cell_type": "code",
      "execution_count": 6,
      "outputs": [
        {
          "output_type": "display_data",
          "data": {
            "application/vnd.livy.statement-meta+json": {
              "spark_pool": "adsdevsynspads",
              "session_id": 4,
              "statement_id": 4,
              "state": "finished",
              "livy_statement_state": "available",
              "queued_time": "2022-07-06T10:53:55.1783962Z",
              "session_start_time": null,
              "execution_start_time": "2022-07-06T10:53:55.2805129Z",
              "execution_finish_time": "2022-07-06T10:54:03.9123784Z"
            },
            "text/plain": "StatementMeta(adsdevsynspads, 4, 4, Finished, Available)"
          },
          "metadata": {}
        }
      ],
      "metadata": {
        "jupyter": {
          "source_hidden": false,
          "outputs_hidden": false
        },
        "nteract": {
          "transient": {
            "deleting": false
          }
        }
      },
      "source": [
        "import json\r\n",
        "rdd =  spark.sparkContext.wholeTextFiles(\"abfss://\"+StorageAccountContainer+\"@\"+StorageAccountName+\".dfs.core.windows.net\"+StorageAccountFolder+\"SifOpenApi/jsonSchemaCreate_AU.json\")\r\n",
        "text = rdd.collect()[0][1]\r\n",
        "dict1 = json.loads(str(text))"
      ]
    },
    {
      "cell_type": "markdown",
      "metadata": {
        "nteract": {
          "transient": {
            "deleting": false
          }
        }
      },
      "source": [
        "**Declare Function that will register codesets as managed tables**"
      ]
    },
    {
      "cell_type": "code",
      "execution_count": 7,
      "outputs": [
        {
          "output_type": "display_data",
          "data": {
            "application/vnd.livy.statement-meta+json": {
              "spark_pool": "adsdevsynspads",
              "session_id": 4,
              "statement_id": 5,
              "state": "finished",
              "livy_statement_state": "available",
              "queued_time": "2022-07-06T10:54:07.8926857Z",
              "session_start_time": null,
              "execution_start_time": "2022-07-06T10:54:07.9997856Z",
              "execution_finish_time": "2022-07-06T10:54:08.1472282Z"
            },
            "text/plain": "StatementMeta(adsdevsynspads, 4, 5, Finished, Available)"
          },
          "metadata": {}
        }
      ],
      "metadata": {
        "jupyter": {
          "source_hidden": false,
          "outputs_hidden": false
        },
        "nteract": {
          "transient": {
            "deleting": false
          }
        }
      },
      "source": [
        "from pyspark.sql import SparkSession\r\n",
        "from pyspark.sql.types  import *\r\n",
        "from pyspark.sql import Row\r\n",
        "\r\n",
        "def PersistRefData(name, dict1):\r\n",
        "    ref = dict1['definitions'][name]['oneOf']\r\n",
        "    schema = StructType([StructField('const', StringType()), StructField('title',StringType())])\r\n",
        "    refdf = spark.createDataFrame(data=ref, schema = schema)\r\n",
        "    tablename = \"ref_\" + name\r\n",
        "    spark.catalog.setCurrentDatabase(SifDbName)\r\n",
        "    refdf.write.mode(\"overwrite\").saveAsTable(tablename)"
      ]
    },
    {
      "cell_type": "markdown",
      "metadata": {
        "nteract": {
          "transient": {
            "deleting": false
          }
        }
      },
      "source": [
        "**Call Function for Each Codeset Entity**"
      ]
    },
    {
      "cell_type": "code",
      "execution_count": 11,
      "outputs": [
        {
          "output_type": "display_data",
          "data": {
            "application/vnd.livy.statement-meta+json": {
              "spark_pool": "adsdevsynspads",
              "session_id": 4,
              "statement_id": 9,
              "state": "finished",
              "livy_statement_state": "available",
              "queued_time": "2022-07-06T10:55:48.5402923Z",
              "session_start_time": null,
              "execution_start_time": "2022-07-06T10:55:48.643511Z",
              "execution_finish_time": "2022-07-06T10:57:13.4521262Z"
            },
            "text/plain": "StatementMeta(adsdevsynspads, 4, 9, Finished, Available)"
          },
          "metadata": {}
        },
        {
          "output_type": "execute_result",
          "data": {
            "text/plain": "[None,\n None,\n None,\n None,\n None,\n None,\n None,\n None,\n None,\n None,\n None,\n None,\n None,\n None,\n None,\n None,\n None,\n None,\n None,\n None,\n None,\n None,\n None,\n None,\n None,\n None,\n None,\n None,\n None,\n None,\n None,\n None,\n None,\n None,\n None,\n None,\n None,\n None,\n None,\n None,\n None,\n None,\n None,\n None,\n None,\n None,\n None,\n None,\n None,\n None,\n None,\n None,\n None,\n None,\n None,\n None,\n None,\n None,\n None,\n None,\n None,\n None,\n None,\n None,\n None,\n None,\n None,\n None,\n None,\n None,\n None,\n None,\n None,\n None,\n None,\n None,\n None,\n None,\n None,\n None,\n None,\n None,\n None,\n None,\n None,\n None,\n None,\n None,\n None,\n None,\n None,\n None,\n None,\n None,\n None,\n None,\n None,\n None,\n None,\n None,\n None,\n None,\n None,\n None,\n None,\n None,\n None,\n None,\n None,\n None,\n None,\n None,\n None,\n None,\n None]"
          },
          "execution_count": 21,
          "metadata": {}
        }
      ],
      "metadata": {
        "microsoft": {}
      },
      "source": [
        "entities = [\"AbstractContentElement\" \\\n",
        ",\"AUCodeSets0211ProgramAvailability\" \\\n",
        ",\"AUCodeSets0792IdentificationProcedure\" \\\n",
        ",\"AUCodeSetsAccompaniment\" \\\n",
        ",\"AUCodeSetsACStrand\" \\\n",
        ",\"AUCodeSetsActivityInvolvementCode\" \\\n",
        ",\"AUCodeSetsActivityType\" \\\n",
        ",\"AUCodeSetsAddressRole\" \\\n",
        ",\"AUCodeSetsAddressType\" \\\n",
        ",\"AUCodeSetsAGCollection\" \\\n",
        ",\"AUCodeSetsAGContextQuestion\" \\\n",
        ",\"AUCodeSetsAGSubmissionStatus\" \\\n",
        ",\"AUCodeSetsAssessmentReportingMethod\" \\\n",
        ",\"AUCodeSetsAssessmentType\" \\\n",
        ",\"AUCodeSetsAttendanceCode\" \\\n",
        ",\"AUCodeSetsAttendanceStatus\" \\\n",
        ",\"AUCodeSetsAustralianCitizenshipStatus\" \\\n",
        ",\"AUCodeSetsAustralianStandardClassificationOfCulturalAndEthnicGroupsASCCEG\" \\\n",
        ",\"AUCodeSetsAustralianStandardClassificationOfLanguagesASCL\" \\\n",
        ",\"AUCodeSetsAustralianStandardClassificationOfReligiousGroupsASCRG\" \\\n",
        ",\"AUCodeSetsAustralianStandardGeographicalClassificationASGC\" \\\n",
        ",\"AUCodeSetsAustralianTimeZone\" \\\n",
        ",\"AUCodeSetsBirthdateVerification\" \\\n",
        ",\"AUCodeSetsBoarding\" \\\n",
        ",\"AUCodeSetsCalendarEvent\" \\\n",
        ",\"AUCodeSetsContactMethod\" \\\n",
        ",\"AUCodeSetsDayValueCode\" \\\n",
        ",\"AUCodeSetsDetentionCategory\" \\\n",
        ",\"AUCodeSetsDwellingArrangement\" \\\n",
        ",\"AUCodeSetsEducationAgencyType\" \\\n",
        ",\"AUCodeSetsEducationLevel\" \\\n",
        ",\"AUCodeSetsElectronicIdType\" \\\n",
        ",\"AUCodeSetsEmailType\" \\\n",
        ",\"AUCodeSetsEmploymentType\" \\\n",
        ",\"AUCodeSetsEnglishProficiency\" \\\n",
        ",\"AUCodeSetsEnrollmentTimeFrame\" \\\n",
        ",\"AUCodeSetsEntryType\" \\\n",
        ",\"AUCodeSetsEquipmentType\" \\\n",
        ",\"AUCodeSetsEventCategory\" \\\n",
        ",\"AUCodeSetsEventSubCategory\" \\\n",
        ",\"AUCodeSetsExitWithdrawalStatus\" \\\n",
        ",\"AUCodeSetsExitWithdrawalType\" \\\n",
        ",\"AUCodeSetsFederalElectorate\" \\\n",
        ",\"AUCodeSetsFFPOSStatusCode\" \\\n",
        ",\"AUCodeSetsFTPTStatusCode\" \\\n",
        ",\"AUCodeSetsGroupCategoryCode\" \\\n",
        ",\"AUCodeSetsImmunisationCertificateStatus\" \\\n",
        ",\"AUCodeSetsIndigenousStatus\" \\\n",
        ",\"AUCodeSetsLanguageType\" \\\n",
        ",\"AUCodeSetsLearningStandardItemRelationshipTypes\" \\\n",
        ",\"AUCodeSetsMaritalStatusAIHW\" \\\n",
        ",\"AUCodeSetsMediumOfInstruction\" \\\n",
        ",\"AUCodeSetsNameUsageType\" \\\n",
        ",\"AUCodeSetsNAPJurisdiction\" \\\n",
        ",\"AUCodeSetsNAPParticipationCode\" \\\n",
        ",\"AUCodeSetsNAPResponseCorrectness\" \\\n",
        ",\"AUCodeSetsNAPTestDomain\" \\\n",
        ",\"AUCodeSetsNAPTestItemMarkingType\" \\\n",
        ",\"AUCodeSetsNAPTestItemType\" \\\n",
        ",\"AUCodeSetsNAPTestType\" \\\n",
        ",\"AUCodeSetsNAPWritingGenre\" \\\n",
        ",\"AUCodeSetsNonSchoolEducation\" \\\n",
        ",\"AUCodeSetsOperationalStatus\" \\\n",
        ",\"AUCodeSetsPermanentResidentStatus\" \\\n",
        ",\"AUCodeSetsPermissionCategoryCode\" \\\n",
        ",\"AUCodeSetsPersonalisedPlan\" \\\n",
        ",\"AUCodeSetsPictureSource\" \\\n",
        ",\"AUCodeSetsPNPCode\" \\\n",
        ",\"AUCodeSetsPrePrimaryHours\" \\\n",
        ",\"AUCodeSetsProgramFundingSourceCode\" \\\n",
        ",\"AUCodeSetsProgressLevel\" \\\n",
        ",\"AUCodeSetsPublicSchoolCatchmentStatus\" \\\n",
        ",\"AUCodeSetsReceivingLocationOfInstruction\" \\\n",
        ",\"AUCodeSetsRelationshipToStudent\" \\\n",
        ",\"AUCodeSetsResourceUsageContentType\" \\\n",
        ",\"AUCodeSetsScheduledActivityType\" \\\n",
        ",\"AUCodeSetsSchoolCoEdStatus\" \\\n",
        ",\"AUCodeSetsSchoolEducationLevelType\" \\\n",
        ",\"AUCodeSetsSchoolEnrollmentType\" \\\n",
        ",\"AUCodeSetsSchoolFocusCode\" \\\n",
        ",\"AUCodeSetsSchoolLevel\" \\\n",
        ",\"AUCodeSetsSchoolLocation\" \\\n",
        ",\"AUCodeSetsSchoolSectorCode\" \\\n",
        ",\"AUCodeSetsSchoolSystem\" \\\n",
        ",\"AUCodeSetsSessionType\" \\\n",
        ",\"AUCodeSetsSexCode\" \\\n",
        ",\"AUCodeSetsSourceCodeType\" \\\n",
        ",\"AUCodeSetsStaffActivity\" \\\n",
        ",\"AUCodeSetsStaffStatus\" \\\n",
        ",\"AUCodeSetsStandardAustralianClassificationOfCountriesSACC\" \\\n",
        ",\"AUCodeSetsStateTerritoryCode\" \\\n",
        ",\"AUCodeSetsStudentFamilyProgramType\" \\\n",
        ",\"AUCodeSetsSuspensionCategory\"  \\\n",
        ",\"AUCodeSetsSystemicStatus\" \\\n",
        ",\"AUCodeSetsTeacherCoverCredit\" \\\n",
        ",\"AUCodeSetsTeacherCoverSupervision\" \\\n",
        ",\"AUCodeSetsTelephoneNumberType\" \\\n",
        ",\"AUCodeSetsTravelMode\" \\\n",
        ",\"AUCodeSetsVisaStudyEntitlement\" \\\n",
        ",\"AUCodeSetsVisaSubClass\" \\\n",
        ",\"AUCodeSetsWellbeingAlertCategory\" \\\n",
        ",\"AUCodeSetsWellbeingAppealStatus\" \\\n",
        ",\"AUCodeSetsWellbeingCharacteristicCategory\" \\\n",
        ",\"AUCodeSetsWellbeingCharacteristicClassification\" \\\n",
        ",\"AUCodeSetsWellbeingCharacteristicSubCategory\" \\\n",
        ",\"AUCodeSetsWellbeingEventCategoryClass\" \\\n",
        ",\"AUCodeSetsWellbeingEventLocation\" \\\n",
        ",\"AUCodeSetsWellbeingEventTimePeriod\" \\\n",
        ",\"AUCodeSetsWellbeingResponseCategory\" \\\n",
        ",\"AUCodeSetsWellbeingStatus\" \\\n",
        ",\"AUCodeSetsYearLevelCode\" \\\n",
        ",\"AUCodeSetsYesOrNoCategory\" \\\n",
        ",\"DefinedProtocols\" \\\n",
        ",\"GenericYesNo\" \\\n",
        ",\"ISO4217CurrencyNamesAndCodeElements\"]\n",
        "\n",
        "\n",
        "from multiprocessing.pool import ThreadPool\n",
        "pool = ThreadPool(5)\n",
        "pool.map(lambda e: PersistRefData(e,dict1),entities)"
      ]
    }
  ]
}