{
  "nbformat": 4,
  "nbformat_minor": 2,
  "metadata": {
    "kernelspec": {
      "name": "synapse_pyspark",
      "display_name": "Synapse PySpark"
    },
    "language_info": {
      "name": "python"
    },
    "description": null,
    "save_output": true,
    "synapse_widget": {
      "version": "0.1",
      "state": {
        "b12dc3bc-849f-4951-9aa4-8a162f47b34b": {
          "type": "Synapse.DataFrame",
          "sync_state": {
            "table": {
              "rows": [
                {
                  "0": "Y",
                  "1": {
                    "AlertMessage": [
                      {
                        "Type": "Legal",
                        "value": "Mother is legal guardian"
                      }
                    ]
                  },
                  "2": "N",
                  "3": "Y",
                  "4": "2016-04-23",
                  "5": "N",
                  "6": "N",
                  "7": {
                    "ElectronicId": [
                      {
                        "Type": "03",
                        "value": "ZZZZZZ21"
                      },
                      {
                        "Type": "03",
                        "value": "ZZZZZZ22"
                      }
                    ]
                  },
                  "8": "N",
                  "9": "N",
                  "10": "N",
                  "11": {
                    "LocalCode": [
                      {
                        "Description": "Serbia Montenegro",
                        "Element": "StudentPersonal/PersonInfo/Demographics/CountryOfBirth",
                        "LocalisedCode": "0921"
                      },
                      {
                        "Description": "Serbia Montenegro",
                        "Element": "StudentPersonal/PersonInfo/Demographics/CountriesOfCitizenship/CountryOfCitizenship",
                        "ListIndex": 1,
                        "LocalisedCode": "0921"
                      }
                    ]
                  },
                  "12": "S1234567",
                  "13": {
                    "MedicalAlertMessage": [
                      {
                        "Severity": "Severe",
                        "value": "Student has Peanut Allergy"
                      },
                      {
                        "Severity": "Moderate",
                        "value": "Student has Diabetes"
                      }
                    ]
                  },
                  "14": {
                    "HomeroomLocalId": "hr12345",
                    "MembershipType": "02",
                    "Homegroup": "7A",
                    "ReportingSchoolId": "VIC670",
                    "FTE": 0.5,
                    "YearLevel": {
                      "Code": "P"
                    },
                    "SchoolLocalId": "S1234567",
                    "Parent1Language": "1201",
                    "ClassCode": "English 7D",
                    "Parent2Language": "1201",
                    "FFPOS": "2",
                    "LocalCampusId": "D",
                    "OtherEnrollmentSchoolACARAId": "VIC6273",
                    "SchoolACARAId": "VIC687"
                  },
                  "15": "12345678",
                  "16": "2012",
                  "17": {
                    "OtherId": [
                      {
                        "Type": "PreviousNAPPlatformStudentId",
                        "value": "888rdgf"
                      },
                      {
                        "Type": "DiocesanStudentId",
                        "value": "1234"
                      }
                    ]
                  },
                  "18": {
                    "Name": {
                      "FamilyName": "Smith",
                      "FullName": "Fred Smith",
                      "GivenName": "Fred",
                      "Type": "LGL"
                    },
                    "PhoneNumberList": {
                      "PhoneNumber": [
                        {
                          "Extension": "72289",
                          "ListedStatus": "Y",
                          "Number": "03 9637-2289",
                          "Type": "0096"
                        },
                        {
                          "ListedStatus": "N",
                          "Number": "0437-765-234",
                          "Type": "0888"
                        }
                      ]
                    },
                    "OtherNames": {
                      "Name": [
                        {
                          "FamilyName": "Anderson",
                          "FullName": "Samuel Anderson",
                          "GivenName": "Samuel",
                          "Type": "AKA"
                        },
                        {
                          "FamilyName": "Rowinski",
                          "FullName": "Sam Rowinski ",
                          "GivenName": "Sam",
                          "Type": "PRF"
                        }
                      ]
                    },
                    "Demographics": {
                      "IndigenousStatus": "3",
                      "ReligiousEventList": {
                        "ReligiousEvent": [
                          {
                            "Date": "2000-09-01",
                            "Type": "Baptism"
                          },
                          {
                            "Date": "2009-12-24",
                            "Type": "Christmas"
                          }
                        ]
                      },
                      "PlaceOfBirth": "Clayton",
                      "Passport": {
                        "Country": "4111",
                        "ExpiryDate": "2030-12-11",
                        "Number": "9"
                      },
                      "LanguageList": {
                        "Language": [
                          {
                            "Code": "0001",
                            "LanguageType": "1"
                          }
                        ]
                      },
                      "BirthDateVerification": "1004",
                      "VisaSubClass": "101",
                      "PermanentResident": "P",
                      "VisaSubClassList": {
                        "VisaSubClass": [
                          {
                            "VisaExpiryDate": "2019-07-25",
                            "ATEStartDate": "2017-12-26",
                            "ATEExpiryDate": "2016-12-26",
                            "Code": "401",
                            "VisaStatisticalCode": "05"
                          }
                        ]
                      },
                      "ReligiousRegion": "The Religion Region",
                      "Religion": {
                        "Code": "2013"
                      },
                      "BirthDate": "1990-09-26",
                      "CountriesOfCitizenship": {
                        "CountryOfCitizenship": [
                          "8104",
                          "1101"
                        ]
                      },
                      "DwellingArrangement": {
                        "Code": "1671"
                      },
                      "StateOfBirth": "VIC",
                      "AustralianCitizenshipStatus": "1",
                      "CountriesOfResidency": {
                        "CountryOfResidency": [
                          "8104",
                          "1101"
                        ]
                      },
                      "CountryOfBirth": "1101",
                      "VisaStatisticalCode": "05",
                      "CountryArrivalDate": "1990-09-26",
                      "Sex": "1",
                      "EnglishProficiency": {
                        "Code": "1"
                      }
                    },
                    "AddressList": {
                      "Address": [
                        {
                          "Role": "2382",
                          "Country": "1101",
                          "StateProvince": "VIC",
                          "Street": {
                            "Line1": "Unit1/10",
                            "Line2": "Barkley Street"
                          },
                          "City": "Yarra Glenn",
                          "PostalCode": "9999",
                          "Type": "0123"
                        },
                        {
                          "Role": "013A",
                          "Country": "1101",
                          "StateProvince": "WA",
                          "Street": {
                            "Line1": "34 Term Address Street"
                          },
                          "City": "Home Town",
                          "PostalCode": "9999",
                          "Type": "0123A"
                        }
                      ]
                    },
                    "EmailList": {
                      "Email": [
                        {
                          "Type": "01",
                          "value": "fsmith@yahoo.com"
                        },
                        {
                          "Type": "02",
                          "value": "freddy@gmail.com"
                        }
                      ]
                    }
                  },
                  "19": "2014",
                  "20": "7C834EA9-EDA1-2090-347F-83297E1C290C",
                  "21": "N",
                  "22": "ABC1234",
                  "23": "N"
                }
              ],
              "schema": [
                {
                  "key": "0",
                  "name": "AcceptableUsePolicy",
                  "type": "string"
                },
                {
                  "key": "1",
                  "name": "AlertMessages",
                  "type": "StructType(StructField(AlertMessage,ArrayType(StructType(StructField(Type,StringType,true), StructField(value,StringType,true)),true),true))"
                },
                {
                  "key": "2",
                  "name": "Disability",
                  "type": "string"
                },
                {
                  "key": "3",
                  "name": "ESL",
                  "type": "string"
                },
                {
                  "key": "4",
                  "name": "ESLDateAssessed",
                  "type": "string"
                },
                {
                  "key": "5",
                  "name": "EconomicDisadvantage",
                  "type": "string"
                },
                {
                  "key": "6",
                  "name": "EducationSupport",
                  "type": "string"
                },
                {
                  "key": "7",
                  "name": "ElectronicIdList",
                  "type": "StructType(StructField(ElectronicId,ArrayType(StructType(StructField(Type,StringType,true), StructField(value,StringType,true)),true),true))"
                },
                {
                  "key": "8",
                  "name": "HomeSchooledStudent",
                  "type": "string"
                },
                {
                  "key": "9",
                  "name": "IndependentStudent",
                  "type": "string"
                },
                {
                  "key": "10",
                  "name": "IntegrationAide",
                  "type": "string"
                },
                {
                  "key": "11",
                  "name": "LocalCodeList",
                  "type": "StructType(StructField(LocalCode,ArrayType(StructType(StructField(Description,StringType,true), StructField(Element,StringType,true), StructField(ListIndex,LongType,true), StructField(LocalisedCode,StringType,true)),true),true))"
                },
                {
                  "key": "12",
                  "name": "LocalId",
                  "type": "string"
                },
                {
                  "key": "13",
                  "name": "MedicalAlertMessages",
                  "type": "StructType(StructField(MedicalAlertMessage,ArrayType(StructType(StructField(Severity,StringType,true), StructField(value,StringType,true)),true),true))"
                },
                {
                  "key": "14",
                  "name": "MostRecent",
                  "type": "StructType(StructField(ClassCode,StringType,true), StructField(FFPOS,StringType,true), StructField(FTE,DoubleType,true), StructField(Homegroup,StringType,true), StructField(HomeroomLocalId,StringType,true), StructField(LocalCampusId,StringType,true), StructField(MembershipType,StringType,true), StructField(OtherEnrollmentSchoolACARAId,StringType,true), StructField(Parent1Language,StringType,true), StructField(Parent2Language,StringType,true), StructField(ReportingSchoolId,StringType,true), StructField(SchoolACARAId,StringType,true), StructField(SchoolLocalId,StringType,true), StructField(YearLevel,StructType(StructField(Code,StringType,true)),true))"
                },
                {
                  "key": "15",
                  "name": "NationalUniqueStudentIdentifier",
                  "type": "string"
                },
                {
                  "key": "16",
                  "name": "OnTimeGraduationYear",
                  "type": "string"
                },
                {
                  "key": "17",
                  "name": "OtherIdList",
                  "type": "StructType(StructField(OtherId,ArrayType(StructType(StructField(Type,StringType,true), StructField(value,StringType,true)),true),true))"
                },
                {
                  "key": "18",
                  "name": "PersonInfo",
                  "type": "StructType(StructField(AddressList,StructType(StructField(Address,ArrayType(StructType(StructField(City,StringType,true), StructField(Country,StringType,true), StructField(PostalCode,StringType,true), StructField(Role,StringType,true), StructField(StateProvince,StringType,true), StructField(Street,StructType(StructField(Line1,StringType,true), StructField(Line2,StringType,true)),true), StructField(Type,StringType,true)),true),true)),true), StructField(Demographics,StructType(StructField(AustralianCitizenshipStatus,StringType,true), StructField(BirthDate,StringType,true), StructField(BirthDateVerification,StringType,true), StructField(CountriesOfCitizenship,StructType(StructField(CountryOfCitizenship,ArrayType(StringType,true),true)),true), StructField(CountriesOfResidency,StructType(StructField(CountryOfResidency,ArrayType(StringType,true),true)),true), StructField(CountryArrivalDate,StringType,true), StructField(CountryOfBirth,StringType,true), StructField(DwellingArrangement,StructType(StructField(Code,StringType,true)),true), StructField(EnglishProficiency,StructType(StructField(Code,StringType,true)),true), StructField(IndigenousStatus,StringType,true), StructField(LanguageList,StructType(StructField(Language,ArrayType(StructType(StructField(Code,StringType,true), StructField(LanguageType,StringType,true)),true),true)),true), StructField(Passport,StructType(StructField(Country,StringType,true), StructField(ExpiryDate,StringType,true), StructField(Number,StringType,true)),true), StructField(PermanentResident,StringType,true), StructField(PlaceOfBirth,StringType,true), StructField(Religion,StructType(StructField(Code,StringType,true)),true), StructField(ReligiousEventList,StructType(StructField(ReligiousEvent,ArrayType(StructType(StructField(Date,StringType,true), StructField(Type,StringType,true)),true),true)),true), StructField(ReligiousRegion,StringType,true), StructField(Sex,StringType,true), StructField(StateOfBirth,StringType,true), StructField(VisaStatisticalCode,StringType,true), StructField(VisaSubClass,StringType,true), StructField(VisaSubClassList,StructType(StructField(VisaSubClass,ArrayType(StructType(StructField(ATEExpiryDate,StringType,true), StructField(ATEStartDate,StringType,true), StructField(Code,StringType,true), StructField(VisaExpiryDate,StringType,true), StructField(VisaStatisticalCode,StringType,true)),true),true)),true)),true), StructField(EmailList,StructType(StructField(Email,ArrayType(StructType(StructField(Type,StringType,true), StructField(value,StringType,true)),true),true)),true), StructField(Name,StructType(StructField(FamilyName,StringType,true), StructField(FullName,StringType,true), StructField(GivenName,StringType,true), StructField(Type,StringType,true)),true), StructField(OtherNames,StructType(StructField(Name,ArrayType(StructType(StructField(FamilyName,StringType,true), StructField(FullName,StringType,true), StructField(GivenName,StringType,true), StructField(Type,StringType,true)),true),true)),true), StructField(PhoneNumberList,StructType(StructField(PhoneNumber,ArrayType(StructType(StructField(Extension,StringType,true), StructField(ListedStatus,StringType,true), StructField(Number,StringType,true), StructField(Type,StringType,true)),true),true)),true))"
                },
                {
                  "key": "19",
                  "name": "ProjectedGraduationYear",
                  "type": "string"
                },
                {
                  "key": "20",
                  "name": "RefId",
                  "type": "string"
                },
                {
                  "key": "21",
                  "name": "Sensitive",
                  "type": "string"
                },
                {
                  "key": "22",
                  "name": "StateProvinceId",
                  "type": "string"
                },
                {
                  "key": "23",
                  "name": "YoungCarersRole",
                  "type": "string"
                }
              ],
              "truncated": false
            },
            "isSummary": false,
            "language": "scala"
          },
          "persist_state": {
            "view": {
              "type": "details",
              "tableOptions": {},
              "chartOptions": {
                "chartType": "bar",
                "aggregationType": "count",
                "categoryFieldKeys": [
                  "0"
                ],
                "seriesFieldKeys": [
                  "0"
                ],
                "isStacked": false
              }
            }
          }
        }
      }
    }
  },
  "cells": [
    {
      "cell_type": "code",
      "execution_count": 2,
      "outputs": [
        {
          "output_type": "display_data",
          "data": {
            "application/vnd.livy.statement-meta+json": {
              "spark_pool": "adsdevsynspads",
              "session_id": 85,
              "statement_id": 3,
              "state": "finished",
              "livy_statement_state": "available",
              "queued_time": "2022-05-24T01:44:48.7162184Z",
              "session_start_time": null,
              "execution_start_time": "2022-05-24T01:45:37.1608841Z",
              "execution_finish_time": "2022-05-24T01:45:37.1612259Z"
            },
            "text/plain": "StatementMeta(adsdevsynspads, 85, 3, Finished, Available)"
          },
          "metadata": {}
        }
      ],
      "metadata": {},
      "source": [
        "TaskObject = \"{\\\"TaskInstanceId\\\":1,\\\"TaskMasterId\\\":2,\\\"TaskStatus\\\":\\\"InProgress\\\",\\\"TaskType\\\":\\\"TestTask Type Name\\\", \\\"Enabled\\\":1,\\\"ExecutionUid\\\":\\\"8448eabb-9ba4-4779-865b-29e973431273\\\",\\\"NumberOfRetries\\\":0,\\\"DegreeOfCopyParallelism\\\":1, \\\"KeyVaultBaseUrl\\\":\\\"https://ads-dev-kv-ads-ic038069.vault.azure.net/\\\",\\\"ScheduleMasterId\\\":\\\"-4\\\",\\\"TaskGroupConcurrency\\\":\\\"10\\\", \\\"TaskGroupPriority\\\":0,\\\"TaskExecutionType\\\":\\\"ADF\\\",\\\"ExecutionEngine\\\":{\\\"EngineId\\\":-1,\\\"EngineName\\\":\\\"ads-dev-kv-ads-ic038069\\\", \\\"SystemType\\\":\\\"Microsoft.Synapse/workspaces\\\",\\\"ResourceGroup\\\":\\\"sifgofast\\\",\\\"SubscriptionId\\\":\\\"cd486ba9-eef3-466d-b16c-7f1b2941ae9d\\\", \\\"ADFPipeline\\\":\\\"GPL_AzureSqlTable_NA_AzureBlobFS_Parquet_Azure\\\",\\\"EngineJson\\\":\\\"{}\\\",\\\"TaskDatafactoryIR\\\":\\\"Azure\\\", \\\"JsonProperties\\\":{}},\\\"Source\\\":{\\\"System\\\":{\\\"SystemId\\\":-8,\\\"SystemServer\\\":\\\"abfss://adsdevdlsadsic03adsl.dfs.core.windows.net\\\", \\\"AuthenticationType\\\":\\\"MSI\\\",\\\"Type\\\":\\\"ADLS\\\",\\\"Username\\\":null,\\\"Container\\\":\\\"adsdevdlsadsic03\\\"},\\\"Instance\\\":{\\\"TargetRelativePath\\\":\\\"\\\"}, \\\"DataFileName\\\":\\\"StudentPersonal.json\\\",\\\"SourceRelativePath\\\":\\\"synapse/sif\\\",\\\"SchemaFileName\\\":\\\"StudentPersonal.json\\\",\\\"Type\\\":\\\"Json\\\"}, \\\"Target\\\":{\\\"System\\\":{\\\"SystemId\\\":-8,\\\"SystemServer\\\":\\\"https://adsdevdlsadsic03adsl.blob.core.windows.net\\\", \\\"AuthenticationType\\\":\\\"MSI\\\",\\\"Type\\\":\\\"ABS\\\",\\\"Username\\\":null,\\\"Container\\\":\\\"adsdevdlsadsic03\\\"}, \\\"Instance\\\":{\\\"TargetRelativePath\\\":\\\"synapse/sif\\\"},\\\"DataFileName\\\":\\\"StudentPersonal\\\",\\\"RelativePath\\\":\\\"\\\", \\\"SchemaFileName\\\":\\\"StudentPersonal.json\\\",\\\"Type\\\":\\\"Delta\\\"}}\""
      ]
    },
    {
      "cell_type": "code",
      "execution_count": 3,
      "outputs": [
        {
          "output_type": "display_data",
          "data": {
            "application/vnd.livy.statement-meta+json": {
              "spark_pool": "adsdevsynspads",
              "session_id": 85,
              "statement_id": 4,
              "state": "finished",
              "livy_statement_state": "available",
              "queued_time": "2022-05-24T01:44:48.8140029Z",
              "session_start_time": null,
              "execution_start_time": "2022-05-24T01:45:37.2734397Z",
              "execution_finish_time": "2022-05-24T01:45:37.434691Z"
            },
            "text/plain": "StatementMeta(adsdevsynspads, 85, 4, Finished, Available)"
          },
          "metadata": {}
        },
        {
          "output_type": "stream",
          "name": "stdout",
          "text": [
            "/synapse/sif/StudentPersonal.json\nabfss://adsdevdlsadsic03@abfss://adsdevdlsadsic03adsl.dfs.core.windows.net/synapse/sif/StudentPersonal.json"
          ]
        }
      ],
      "metadata": {
        "jupyter": {
          "source_hidden": false,
          "outputs_hidden": false
        },
        "nteract": {
          "transient": {
            "deleting": false
          }
        }
      },
      "source": [
        "import random\r\n",
        "import json\r\n",
        "from pyspark.sql import Row\r\n",
        "from pyspark.sql.types import *\r\n",
        "from pyspark.sql.functions import *\r\n",
        "\r\n",
        "session_id = random.randint(0,1000000)\r\n",
        "#invalid source\r\n",
        "##TaskObject = \"{\\\"TaskInstanceId\\\":1,\\\"TaskMasterId\\\":2,\\\"TaskStatus\\\":\\\"InProgress\\\",\\\"TaskType\\\":\\\"TestTask Type Name\\\",\\\"Enabled\\\":1,\\\"ExecutionUid\\\":\\\"8448eabb-9ba4-4779-865b-29e973431273\\\",\\\"NumberOfRetries\\\":0,\\\"DegreeOfCopyParallelism\\\":1,\\\"KeyVaultBaseUrl\\\":\\\"https://ark-stg-kv-ads-irud.vault.azure.net/\\\",\\\"ScheduleMasterId\\\":\\\"-4\\\",\\\"TaskGroupConcurrency\\\":\\\"10\\\",\\\"TaskGroupPriority\\\":0,\\\"TaskExecutionType\\\":\\\"ADF\\\",\\\"ExecutionEngine\\\":{\\\"EngineId\\\":-1,\\\"EngineName\\\":\\\"ark-stg-adf-ads-irud\\\",\\\"SystemType\\\":\\\"Datafactory\\\",\\\"ResourceGroup\\\":\\\"dlzdev04\\\",\\\"SubscriptionId\\\":\\\"ed1206e0-17c7-4bc2-ad4b-f8d4dab9284f\\\",\\\"ADFPipeline\\\":\\\"GPL_AzureSqlTable_NA_AzureBlobFS_Parquet_Azure\\\",\\\"EngineJson\\\":\\\"{}\\\",\\\"TaskDatafactoryIR\\\":\\\"Azure\\\",\\\"JsonProperties\\\":{}},\\\"Source\\\":{\\\"System\\\":{\\\"SystemId\\\":-8,\\\"SystemServer\\\":\\\"https://arkstgdlsadsirudadsl.dfs.core.windows.net\\\",\\\"AuthenticationType\\\":\\\"MSI\\\",\\\"Type\\\":\\\"ADLS\\\",\\\"Username\\\":null,\\\"Container\\\":\\\"datalakelanding\\\"},\\\"Instance\\\":{\\\"TargetRelativePath\\\":\\\"\\\"},\\\"DataFileName\\\":\\\"TestFile.parquet\\\",\\\"RelativePath\\\":\\\"\\\",\\\"SchemaFileName\\\":\\\"TestFile.json\\\"},\\\"Target\\\":{\\\"System\\\":{\\\"SystemId\\\":-8,\\\"SystemServer\\\":\\\"https://arkstgdlsadsirudadsl.dfs.core.windows.net\\\",\\\"AuthenticationType\\\":\\\"MSI\\\",\\\"Type\\\":\\\"ADLS\\\",\\\"Username\\\":null,\\\"Container\\\":\\\"datalakelanding\\\"},\\\"Instance\\\":{\\\"TargetRelativePath\\\":\\\"\\\"},\\\"DataFileName\\\":\\\"TestFile.parquet\\\",\\\"RelativePath\\\":\\\"\\\",\\\"SchemaFileName\\\":\\\"TestFile.json\\\",\\\"Type\\\":\\\"Parquet\\\"}}\"\r\n",
        "#valid source\r\n",
        "#TaskObject = \"{\\\"TaskInstanceId\\\":1,\\\"TaskMasterId\\\":2,\\\"TaskStatus\\\":\\\"InProgress\\\",\\\"TaskType\\\":\\\"TestTask Type Name\\\", \\\"Enabled\\\":1,\\\"ExecutionUid\\\":\\\"8448eabb-9ba4-4779-865b-29e973431273\\\",\\\"NumberOfRetries\\\":0,\\\"DegreeOfCopyParallelism\\\":1, \\\"KeyVaultBaseUrl\\\":\\\"https://ads-dev-kv-ads-ic038069.vault.azure.net/\\\",\\\"ScheduleMasterId\\\":\\\"-4\\\",\\\"TaskGroupConcurrency\\\":\\\"10\\\", \\\"TaskGroupPriority\\\":0,\\\"TaskExecutionType\\\":\\\"ADF\\\",\\\"ExecutionEngine\\\":{\\\"EngineId\\\":-1,\\\"EngineName\\\":\\\"ads-dev-kv-ads-ic038069\\\", \\\"SystemType\\\":\\\"Microsoft.Synapse/workspaces\\\",\\\"ResourceGroup\\\":\\\"sifgofast\\\",\\\"SubscriptionId\\\":\\\"cd486ba9-eef3-466d-b16c-7f1b2941ae9d\\\", \\\"ADFPipeline\\\":\\\"GPL_AzureSqlTable_NA_AzureBlobFS_Parquet_Azure\\\",\\\"EngineJson\\\":\\\"{}\\\",\\\"TaskDatafactoryIR\\\":\\\"Azure\\\", \\\"JsonProperties\\\":{}},\\\"Source\\\":{\\\"System\\\":{\\\"SystemId\\\":-8,\\\"SystemServer\\\":\\\"https://adsdevdlsadsic03adsl.blob.core.windows.net\\\", \\\"AuthenticationType\\\":\\\"MSI\\\",\\\"Type\\\":\\\"ADLS\\\",\\\"Username\\\":null,\\\"Container\\\":\\\"adsdevdlsadsic03\\\"},\\\"Instance\\\":\\\"\\\",{\\\"TargetRelativePath\\\":\\\"synapse/sif\\\"}, \\\"DataFileName\\\":\\\"StudentPersonal.parquet\\\",\\\"SourceRelativePath\\\":\\\"synapse/sif\\\",\\\"SchemaFileName\\\":\\\"StudentPersonal.json\\\",\\\"Type\\\":\\\"Parquet\\\"}, \\\"Target\\\":{\\\"System\\\":{\\\"SystemId\\\":-8,\\\"SystemServer\\\":\\\"https://adsdevdlsadsic03adsl.blob.core.windows.net\\\", \\\"AuthenticationType\\\":\\\"MSI\\\",\\\"Type\\\":\\\"ABS\\\",\\\"Username\\\":null,\\\"Container\\\":\\\"adsdevdlsadsic03\\\"}, \\\"Instance\\\":{\\\"TargetRelativePath\\\":\\\"\\\"},\\\"DataFileName\\\":\\\"StudentPersonal.parquet\\\",\\\"SourceRelativePath\\\":\\\"synapse\\/sif\\\", \\\"SchemaFileName\\\":\\\"StudentPersonal.json\\\",\\\"Type\\\":\\\"Parquet\\\"}}\"\r\n",
        "TaskDict = {}\r\n",
        "OutputDict = {}\r\n",
        "TaskObjectJson = json.loads(TaskObject)\r\n",
        "\r\n",
        "FilewithPath =\"\"\r\n",
        "\r\n",
        "##we want to delete EngineJson as it causes issues when converting back to a json and it is not needed as its properties are within JsonProperties as children\r\n",
        "try:\r\n",
        "    del TaskObjectJson['ExecutionEngine']['EngineJson']\r\n",
        "except:\r\n",
        "    print(\"No EngineJson Found\")\r\n",
        "\r\n",
        "\r\n",
        "testStrings = ['Json', 'Parquet', 'Csv', 'Delta']\r\n",
        "try:\r\n",
        "    contains = any([test in TaskObjectJson['Source']['Type'] for test in testStrings])\r\n",
        "except:\r\n",
        "    contains = False\r\n",
        "\r\n",
        "\r\n",
        "if(contains):\r\n",
        "    Source = TaskObjectJson['Source']['System']['Container'] + \"@\" + TaskObjectJson['Source']['System']['SystemServer'].replace(\"https://\",\"\").replace(\"blob\",\"dfs\") + \"/\"\r\n",
        "    Container = \"abfss://\" + Source + TaskObjectJson['Source']['SourceRelativePath']\r\n",
        "    FilewithPath =  \"/\" + TaskObjectJson['Source']['SourceRelativePath'] +\"/\" + TaskObjectJson['Source']['DataFileName'] \r\n",
        "    #+ \".\"+ TaskObjectJson['Source']['Type']\r\n",
        "    Filewithpath = FilewithPath.replace('//', '/')\r\n",
        "    \r\n",
        "    print(Filewithpath)\r\n",
        "    Source = Container  +\"/\" + TaskObjectJson['Source']['DataFileName'] \r\n",
        "   \r\n",
        "    \r\n",
        "    print(Source)\r\n",
        "else:\r\n",
        "    Source = \"invalid\"\r\n",
        ""
      ]
    },
    {
      "cell_type": "code",
      "execution_count": null,
      "outputs": [],
      "metadata": {
        "jupyter": {
          "source_hidden": false,
          "outputs_hidden": false
        },
        "nteract": {
          "transient": {
            "deleting": false
          }
        }
      },
      "source": []
    },
    {
      "cell_type": "code",
      "execution_count": 16,
      "outputs": [
        {
          "output_type": "display_data",
          "data": {
            "application/vnd.livy.statement-meta+json": {
              "spark_pool": "adsdevsynspads",
              "session_id": 85,
              "statement_id": 17,
              "state": "finished",
              "livy_statement_state": "available",
              "queued_time": "2022-05-24T02:46:34.6057992Z",
              "session_start_time": null,
              "execution_start_time": "2022-05-24T02:46:34.8413695Z",
              "execution_finish_time": "2022-05-24T02:46:34.9885526Z"
            },
            "text/plain": "StatementMeta(adsdevsynspads, 85, 17, Finished, Available)"
          },
          "metadata": {}
        },
        {
          "output_type": "stream",
          "name": "stdout",
          "text": [
            "{'Source': 'abfss://adsdevdlsadsic03@abfss://adsdevdlsadsic03adsl.dfs.core.windows.net/synapse/sif/StudentPersonal.json', 'Target': 'abfss://adsdevdlsadsic03@adsdevdlsadsic03adsl.blob.core.windows.net/synapse/sif/StudentPersonal', 'SourceType': 'Json', 'TargetType': 'Delta', 'SourceFileWithPath': '/synapse/sif/StudentPersonal.json', 'TargetFileName': 'synapse/sif/StudentPersonal'}\n{'SourceHttpPath': 'https://abfss:/adsdevdlsadsic03adsl.dfs.core.windows.net/adsdevdlsadsic03/synapse/sif/StudentPersonal.json', 'TargetHttpPath': 'https://adsdevdlsadsic03/adsdevdlsadsic03adsl.blob.core.windows.net/synapse/sif/StudentPersonal'}"
          ]
        }
      ],
      "metadata": {
        "jupyter": {
          "source_hidden": false,
          "outputs_hidden": false
        },
        "nteract": {
          "transient": {
            "deleting": false
          }
        }
      },
      "source": [
        "try:\r\n",
        "    contains = any([test in TaskObjectJson['Target']['Type'] for test in testStrings])\r\n",
        "except:\r\n",
        "    contains = False\r\n",
        "\r\n",
        "if(contains):\r\n",
        "    Target = TaskObjectJson['Target']['System']['Container'] + \"@\" + TaskObjectJson['Target']['System']['SystemServer'].replace(\"https://\",\"\") + \"/\"\r\n",
        "    TargetFileName = TaskObjectJson['Target']['Instance']['TargetRelativePath'] + \"/\" + TaskObjectJson['Target']['DataFileName']\r\n",
        "    Target = Target + TargetFileName \r\n",
        "    Target = Target.replace('//', '/')\r\n",
        "    Target = \"abfss://\" + Target\r\n",
        "\r\n",
        "\r\n",
        "else:\r\n",
        "    Target = \"invalid\"\r\n",
        "##df = spark.read.load(Source, format=SourceDT)\r\n",
        "\r\n",
        "TaskDict['Source'] = Source\r\n",
        "TaskDict['Target'] = Target\r\n",
        "TaskDict['SourceType']= TaskObjectJson['Source']['Type'] \r\n",
        "TaskDict['TargetType']= TaskObjectJson['Target']['Type'] \r\n",
        "TaskDict['SourceFileWithPath']=FilewithPath\r\n",
        "TaskDict['TargetFileName'] = TargetFileName\r\n",
        "\r\n",
        "SourceHttpPath = TaskObjectJson['Source']['System']['SystemServer'].replace(\"https://\",\"\") + \"/\" + TaskObjectJson['Source']['System']['Container'] + \"/\"\r\n",
        "SourceHttpPath = SourceHttpPath + TaskObjectJson['Source']['SourceRelativePath'] + \"/\" + TaskObjectJson['Source']['DataFileName']\r\n",
        "SourceHttpPath = SourceHttpPath.replace('//', '/')\r\n",
        "SourceHttpPath = \"https://\" + SourceHttpPath\r\n",
        "\r\n",
        "TargetHttpPath = TaskObjectJson['Target']['System']['Container'] + \"/\" + TaskObjectJson['Target']['System']['SystemServer'].replace(\"https://\",\"\") + \"/\"\r\n",
        "TargetHttpPath = TargetHttpPath + TaskObjectJson['Target']['Instance']['TargetRelativePath'] + \"/\" + TaskObjectJson['Target']['DataFileName']\r\n",
        "TargetHttpPath = TargetHttpPath.replace('//', '/')\r\n",
        "TargetHttpPath = \"https://\" + TargetHttpPath\r\n",
        "\r\n",
        "\r\n",
        "\r\n",
        "OutputDict['SourceHttpPath'] = SourceHttpPath\r\n",
        "OutputDict['TargetHttpPath'] = TargetHttpPath\r\n",
        "\r\n",
        "\r\n",
        "print(TaskDict)\r\n",
        "print(OutputDict)"
      ]
    },
    {
      "cell_type": "code",
      "execution_count": null,
      "outputs": [
        {
          "output_type": "display_data",
          "data": {
            "application/vnd.livy.statement-meta+json": {
              "spark_pool": null,
              "session_id": null,
              "statement_id": null,
              "state": "cancelled",
              "livy_statement_state": null,
              "queued_time": "2022-05-24T01:44:49.0218578Z",
              "session_start_time": null,
              "execution_start_time": null,
              "execution_finish_time": "2022-05-24T01:45:15.7482165Z"
            },
            "text/plain": "StatementMeta(, , , Cancelled, )"
          },
          "metadata": {}
        }
      ],
      "metadata": {
        "jupyter": {
          "source_hidden": false,
          "outputs_hidden": false
        },
        "nteract": {
          "transient": {
            "deleting": false
          }
        }
      },
      "source": [
        "#%run /functions"
      ]
    },
    {
      "cell_type": "code",
      "execution_count": 5,
      "outputs": [
        {
          "output_type": "display_data",
          "data": {
            "application/vnd.livy.statement-meta+json": {
              "spark_pool": "adsdevsynspads",
              "session_id": 85,
              "statement_id": 6,
              "state": "finished",
              "livy_statement_state": "available",
              "queued_time": "2022-05-24T01:44:49.1062158Z",
              "session_start_time": null,
              "execution_start_time": "2022-05-24T01:45:37.8327202Z",
              "execution_finish_time": "2022-05-24T01:45:43.5254245Z"
            },
            "text/plain": "StatementMeta(adsdevsynspads, 85, 6, Finished, Available)"
          },
          "metadata": {}
        },
        {
          "output_type": "stream",
          "name": "stdout",
          "text": [
            "abfss://adsdevdlsadsic03@abfss://adsdevdlsadsic03adsl.dfs.core.windows.net/synapse/sif\n/synapse/sif/StudentPersonal.json\n"
          ]
        },
        {
          "output_type": "display_data",
          "data": {
            "text/plain": "[FileInfo(path=abfss://adsdevdlsadsic03@adsdevdlsadsic03adsl.dfs.core.windows.net/synapse/sif/StudentPersonal.json, name=StudentPersonal.json, size=6321)]"
          },
          "metadata": {}
        }
      ],
      "metadata": {
        "jupyter": {
          "source_hidden": false,
          "outputs_hidden": false
        },
        "nteract": {
          "transient": {
            "deleting": false
          }
        }
      },
      "source": [
        "print(Container)\r\n",
        "print(Filewithpath)\r\n",
        "\r\n",
        "mssparkutils.fs.ls(Filewithpath)\r\n",
        ""
      ]
    },
    {
      "cell_type": "code",
      "execution_count": 7,
      "outputs": [
        {
          "output_type": "display_data",
          "data": {
            "application/vnd.livy.statement-meta+json": {
              "spark_pool": "adsdevsynspads",
              "session_id": 85,
              "statement_id": 8,
              "state": "finished",
              "livy_statement_state": "available",
              "queued_time": "2022-05-24T01:47:25.9547163Z",
              "session_start_time": null,
              "execution_start_time": "2022-05-24T01:47:26.059014Z",
              "execution_finish_time": "2022-05-24T01:47:41.4865543Z"
            },
            "text/plain": "StatementMeta(adsdevsynspads, 85, 8, Finished, Available)"
          },
          "metadata": {}
        },
        {
          "output_type": "stream",
          "name": "stdout",
          "text": [
            "abfss://adsdevdlsadsic03@abfss://adsdevdlsadsic03adsl.dfs.core.windows.net/synapse/sif/StudentPersonal.json\n/synapse/sif/StudentPersonal.json\n"
          ]
        },
        {
          "output_type": "display_data",
          "data": {
            "application/vnd.synapse.widget-view+json": {
              "widget_id": "b12dc3bc-849f-4951-9aa4-8a162f47b34b",
              "widget_type": "Synapse.DataFrame"
            },
            "text/plain": "SynapseWidget(Synapse.DataFrame, b12dc3bc-849f-4951-9aa4-8a162f47b34b)"
          },
          "metadata": {}
        }
      ],
      "metadata": {
        "jupyter": {
          "source_hidden": false,
          "outputs_hidden": false
        },
        "nteract": {
          "transient": {
            "deleting": false
          }
        },
        "collapsed": false
      },
      "source": [
        "from pyspark.sql.functions import col, explode_outer, from_json, lit, concat\r\n",
        "from pyspark.sql.types import StructType, ArrayType\r\n",
        "print(Source)\r\n",
        "print(FilewithPath)\r\n",
        "input_df = spark.read.option(\"multiline\",\"true\").json(FilewithPath)\r\n",
        "display(input_df)\r\n",
        "\r\n",
        "\r\n",
        "#output_df = execute_autoflatten_with_PK(input_df,None)\r\n",
        "#display(output_df)\r\n",
        "\r\n",
        ""
      ]
    },
    {
      "cell_type": "code",
      "execution_count": 9,
      "outputs": [
        {
          "output_type": "display_data",
          "data": {
            "application/vnd.livy.statement-meta+json": {
              "spark_pool": "adsdevsynspads",
              "session_id": 85,
              "statement_id": 10,
              "state": "finished",
              "livy_statement_state": "available",
              "queued_time": "2022-05-24T01:48:44.4917584Z",
              "session_start_time": null,
              "execution_start_time": "2022-05-24T01:48:44.5950889Z",
              "execution_finish_time": "2022-05-24T01:48:44.7594904Z"
            },
            "text/plain": "StatementMeta(adsdevsynspads, 85, 10, Finished, Available)"
          },
          "metadata": {}
        },
        {
          "output_type": "stream",
          "name": "stdout",
          "text": [
            "https://adsdevdlsadsic03/adsdevdlsadsic03adsl.blob.core.windows.net/synapse/sif/StudentPersonal\nabfss://adsdevdlsadsic03@adsdevdlsadsic03adsl.blob.core.windows.net/synapse/sif/StudentPersonal"
          ]
        }
      ],
      "metadata": {
        "jupyter": {
          "source_hidden": false,
          "outputs_hidden": false
        },
        "nteract": {
          "transient": {
            "deleting": false
          }
        }
      },
      "source": [
        "if Container == None: Container = self.TargetRelativePath\r\n",
        " # mssparkutils.fs.put(f\"{Container}/{folder}/{filename}\", output_df.to_csv(index=False), True) \r\n",
        "print (TargetHttpPath)\r\n",
        "print (Target)\r\n",
        "\r\n",
        "#output_df.printSchema()\r\n",
        "#schema = output_df.collect()\r\n",
        "#loop through each column to find the primary key column\r\n",
        "\r\n",
        "#set up the merge condition used in the next code block\r\n",
        "#mergeCondition = \"oldData.\" + primaryKey.COLUMN_NAME + \" = newData.\" + primaryKey.COLUMN_NAME\r\n",
        "\r\n",
        ""
      ]
    },
    {
      "cell_type": "code",
      "execution_count": 13,
      "outputs": [
        {
          "output_type": "display_data",
          "data": {
            "application/vnd.livy.statement-meta+json": {
              "spark_pool": "adsdevsynspads",
              "session_id": 85,
              "statement_id": 14,
              "state": "finished",
              "livy_statement_state": "available",
              "queued_time": "2022-05-24T02:03:32.2079066Z",
              "session_start_time": null,
              "execution_start_time": "2022-05-24T02:03:32.4397603Z",
              "execution_finish_time": "2022-05-24T02:03:32.9685884Z"
            },
            "text/plain": "StatementMeta(adsdevsynspads, 85, 14, Finished, Available)"
          },
          "metadata": {}
        },
        {
          "output_type": "stream",
          "name": "stdout",
          "text": [
            "SourceDT = Json, TargetDT = Delta\nCreating new Delta Table.\nTable does not exist. Creating new Delta Table."
          ]
        },
        {
          "output_type": "error",
          "ename": "NameError",
          "evalue": "name 'TargetName' is not defined",
          "traceback": [
            "NameError: name 'TargetName' is not defined",
            "Traceback (most recent call last):\n",
            "NameError: name 'TargetName' is not defined\n"
          ]
        }
      ],
      "metadata": {
        "jupyter": {
          "source_hidden": false,
          "outputs_hidden": false
        },
        "nteract": {
          "transient": {
            "deleting": false
          }
        }
      },
      "source": [
        "from delta.tables import *\r\n",
        "\r\n",
        "df = input_df\r\n",
        "\r\n",
        "#SIF model uses RefId as Unique identifier in all the structures\r\n",
        "mergeCondition = \"oldData.RefId = newData.RefId\"\r\n",
        "\r\n",
        "\r\n",
        "\r\n",
        "if(TaskDict['TargetType'] == 'Delta'):\r\n",
        "    print(\"SourceDT = \" + TaskDict['SourceType'] + \", TargetDT = \" + TaskDict['TargetType'])\r\n",
        "    #df = spark.read.load(Source, format=SourceDT)\r\n",
        "    \r\n",
        "    var_check = DeltaTable.isDeltaTable(spark, TaskDict['Target'] )\r\n",
        "    try:\r\n",
        "        if (var_check):\r\n",
        "            print(\"Performing Merge... on Existing table\")\r\n",
        "\r\n",
        "            olddt = DeltaTable.forPath(spark, TaskDict['Target']) \r\n",
        "\r\n",
        "            olddt.alias(\"oldData\").merge(\r\n",
        "                df.alias(\"newData\"),\r\n",
        "                mergeCondition) \\\r\n",
        "            .whenMatchedUpdateAll() \\\r\n",
        "            .whenNotMatchedInsertAll() \\\r\n",
        "            .execute()\r\n",
        "        else:\r\n",
        "            print(\"Creating new Delta Table.\")    \r\n",
        "            df.write.format(\"{TaskDict['TargetType']}\").option('path', TaskDict['Target']).saveAsTable( TaskDict['TargetFileName'])\r\n",
        "    except:\r\n",
        "        print(\"Table does not exist. Creating new Delta Table.\")    \r\n",
        "        df.write.format(\"TaskDict['TargetType']\").option('path', TaskDict['Target']).saveAsTable(TaskDict['TargetFileName'])\r\n",
        "elif(TaskDict['TargetType'] == 'Parquet' and TaskDict['SourceType'] == 'Delta'):\r\n",
        "    print(\"SourceDT = Delta, TargetDT = Parquet.\")\r\n",
        "    df.write.format(\"{TaskDict['TargetType']}}\").mode(\"overwrite\").save(TaskDict['Target']) "
      ]
    },
    {
      "cell_type": "code",
      "execution_count": 11,
      "outputs": [
        {
          "output_type": "display_data",
          "data": {
            "application/vnd.livy.statement-meta+json": {
              "spark_pool": "adsdevsynspads",
              "session_id": 85,
              "statement_id": 12,
              "state": "finished",
              "livy_statement_state": "available",
              "queued_time": "2022-05-24T01:58:14.9583759Z",
              "session_start_time": null,
              "execution_start_time": "2022-05-24T01:58:15.1429743Z",
              "execution_finish_time": "2022-05-24T01:58:15.2977624Z"
            },
            "text/plain": "StatementMeta(adsdevsynspads, 85, 12, Finished, Available)"
          },
          "metadata": {}
        },
        {
          "output_type": "display_data",
          "data": {
            "text/plain": "{'Source': 'abfss://adsdevdlsadsic03@abfss://adsdevdlsadsic03adsl.dfs.core.windows.net/synapse/sif/StudentPersonal.json',\n 'Target': 'abfss://adsdevdlsadsic03@adsdevdlsadsic03adsl.blob.core.windows.net/synapse/sif/StudentPersonal',\n 'SourceType': 'Json',\n 'TargetType': 'Delta'}"
          },
          "metadata": {}
        }
      ],
      "metadata": {
        "jupyter": {
          "source_hidden": false,
          "outputs_hidden": false
        },
        "nteract": {
          "transient": {
            "deleting": false
          }
        }
      },
      "source": [
        "TaskDict"
      ]
    }
  ]
}